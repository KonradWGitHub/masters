{
 "cells": [
  {
   "cell_type": "code",
   "execution_count": 1,
   "id": "02b93c39",
   "metadata": {},
   "outputs": [],
   "source": [
    "import mediapipe as mp\n",
    "import cv2\n",
    "import numpy as np\n",
    "import pandas as pd \n",
    "import os\n",
    "import pickle\n",
    "import time \n",
    "\n",
    "\n",
    "from ipynb.fs.full.utils import calculate_box, draw_box, get_landmarks_snapshot, get_landmarks_angles, draw_finger_angles\n",
    "\n",
    "PATH = 'E:\\RealTimeObjectDetection'\n",
    "DATA_PATH = PATH + '\\data'"
   ]
  },
  {
   "cell_type": "code",
   "execution_count": 2,
   "id": "187f7eef",
   "metadata": {},
   "outputs": [],
   "source": [
    "mp_drawing = mp.solutions.drawing_utils\n",
    "mp_hands = mp.solutions.hands"
   ]
  },
  {
   "cell_type": "code",
   "execution_count": 3,
   "id": "0792392b",
   "metadata": {},
   "outputs": [],
   "source": [
    "classifier = pickle.load(open('model.sav', 'rb'))"
   ]
  },
  {
   "cell_type": "markdown",
   "id": "a0f4c102",
   "metadata": {},
   "source": [
    "https://google.github.io/mediapipe/images/mobile/hand_landmarks.png"
   ]
  },
  {
   "cell_type": "code",
   "execution_count": 4,
   "id": "c746449f",
   "metadata": {},
   "outputs": [],
   "source": [
    "joint_list = [[0,1,2],[1,2,3],[2,3,4],[0,5,6],[5,6,7],[6,7,8],[0,9,10],[9,10,11],[10,11,12],[0,13,14],[13,14,15],[14,15,16],[0,17,18],[17,18,19],[18,19,20]]"
   ]
  },
  {
   "cell_type": "markdown",
   "id": "79f14be1",
   "metadata": {},
   "source": [
    "#### import labels"
   ]
  },
  {
   "cell_type": "code",
   "execution_count": 5,
   "id": "48748cf8",
   "metadata": {},
   "outputs": [],
   "source": [
    "import json\n",
    "\n",
    "with open(\"labels.txt\") as f:\n",
    "    labels = json.load(f)"
   ]
  },
  {
   "cell_type": "code",
   "execution_count": 6,
   "id": "ef0929ab",
   "metadata": {},
   "outputs": [],
   "source": [
    "#lock \n",
    "def sequence_detection(y_pred, latch, sequence): \n",
    "    if len(latch) < 3:\n",
    "        latch.append(y_pred)\n",
    "    else:\n",
    "        if latch[0] == latch[1] and latch[1] == latch[2]:\n",
    "            if len(sequence) == 0:\n",
    "                sequence.append(latch[0])\n",
    "            elif sequence[-1] != latch[2]:\n",
    "                sequence.append(latch[0])\n",
    "        latch[0] = latch[1]\n",
    "        latch[1] = latch[2]\n",
    "        latch[2] = y_pred\n",
    "\n",
    "    return sequence\n"
   ]
  },
  {
   "cell_type": "code",
   "execution_count": 7,
   "id": "f4fe5980",
   "metadata": {},
   "outputs": [],
   "source": [
    "def check_lock(lock, unlock):\n",
    "    for index in range(len(unlock)-len(lock)+1):\n",
    "        unlock_ = []\n",
    "        for i, _ in enumerate(lock):\n",
    "            unlock_.append(unlock[index+i])\n",
    "        if unlock_ == lock:\n",
    "            return False\n",
    "    return True\n",
    "    "
   ]
  },
  {
   "cell_type": "code",
   "execution_count": 20,
   "id": "8542d7ab",
   "metadata": {},
   "outputs": [
    {
     "name": "stdout",
     "output_type": "stream",
     "text": [
      "1653917394.0363753\n",
      "end\n",
      "[0.0, 1.0, 0.0, 1.0, 0.0, 3.0, 0.0]\n",
      "unlocked\n"
     ]
    }
   ],
   "source": [
    "sequence_mode_on = False\n",
    "check_lock_mode_on = False\n",
    "mode_box = [400, 340, 600, 140]\n",
    "start_ = True\n",
    "start = 0\n",
    "locked = True\n",
    "sequence = []\n",
    "sequence_ = []\n",
    "latch = []\n",
    "\n",
    "cap = cv2.VideoCapture(0)\n",
    "landmarksData = pd.DataFrame()\n",
    "\n",
    "with mp_hands.Hands(min_detection_confidence=0.8, min_tracking_confidence=0.5, max_num_hands=1) as hands:\n",
    "    while cap.isOpened():\n",
    "        ret, frame = cap.read()\n",
    "        \n",
    "        # Wrap open-cv with mediapipe\n",
    "        image = cv2.cvtColor(frame,cv2.COLOR_BGR2RGB)\n",
    "        image = cv2.flip(image,1)\n",
    "        image.flags.writeable = False\n",
    "        results = hands.process(image)\n",
    "        image.flags.writeable = True\n",
    "        image = cv2.cvtColor(image, cv2.COLOR_RGB2BGR)\n",
    "        cv2.rectangle(image,(mode_box[0],mode_box[1]),(mode_box[2],mode_box[3]),(0,255,0),2)\n",
    "        if results.multi_hand_landmarks:\n",
    "            for num, hand in enumerate(results.multi_hand_landmarks):\n",
    "                #draw box\n",
    "                mp_drawing.draw_landmarks(image, hand, mp_hands.HAND_CONNECTIONS,\n",
    "                                         mp_drawing.DrawingSpec(color=(245, 135, 66), thickness=2, circle_radius=2),\n",
    "                                         mp_drawing.DrawingSpec(color=(171, 66,0 ), thickness=2, circle_radius=2))\n",
    "                box = calculate_box(image,results.multi_hand_landmarks)\n",
    "                image = draw_box(True, image,box)\n",
    "                #draw angles\n",
    "#                 image = draw_finger_angles(image, results, joint_list)\n",
    "                #predict\n",
    "                y_pred = classifier.predict(get_landmarks_angles(results.multi_hand_landmarks, joint_list).reshape(1,-1))\n",
    "                # start authentication\n",
    "                if (box[0]>mode_box[0] and box[1]<mode_box[1] and box[2]<mode_box[2] and box[3]>mode_box[3] and y_pred[0]== 0):\n",
    "                    check_lock_mode_on = !check_lock_mode_on\n",
    "                    locked = False\n",
    "                # set lock \n",
    "                if (box[0]>mode_box[0] and box[1]<mode_box[1] and box[2]<mode_box[2] and box[3]>mode_box[3] and y_pred[0]== 1):\n",
    "                    lock = []\n",
    "                    sequence= []\n",
    "                    sequence_mode_on = True\n",
    "                if start_:\n",
    "                    start = time.time()\n",
    "                    print(start)\n",
    "                    start_ = False\n",
    "                    stop = time.time()\n",
    "                if (stop - start >= 5 and sequence_mode_on):\n",
    "                    print(\"end\")\n",
    "                    sequence_mode_on = False\n",
    "                    print(lock)\n",
    "                stop = time.time()\n",
    "                #set sequence\n",
    "                if sequence_mode_on:\n",
    "                    lock = sequence_detection(y_pred[0], latch, sequence)[1:]\n",
    "                #check lock\n",
    "                if check_lock_mode_on:\n",
    "                    unlock = sequence_detection(y_pred[0], latch, sequence_)\n",
    "                    if len(unlock) >= len(lock):\n",
    "                        locked = check_lock(lock, unlock)\n",
    "                        if locked == False: \n",
    "                            print(\"unlocked\")\n",
    "                            check_lock_mode_on = False\n",
    "                #draw label\n",
    "                for label in labels:\n",
    "                    if y_pred == label['id']:\n",
    "                        cv2.putText(image, label['label'], (box[0] + 5, box[1] - 4),\n",
    "                cv2.FONT_HERSHEY_SIMPLEX, 0.6, (255, 255, 255), 1, cv2.LINE_AA)\n",
    "        cv2.imshow('Hand tracking', image)\n",
    "        \n",
    "        # Onkey functions\n",
    "        k = cv2.waitKey(33)\n",
    "        if k==97:    # Get snapshot when pressed \"a\"\n",
    "            if results.multi_hand_landmarks:\n",
    "                data = get_landmarks_snapshot(results.multi_hand_landmarks)\n",
    "                landmarksData = pd.concat([landmarksData, data], ignore_index=True)\n",
    "        elif k==115: # Save data when pressed \"s\"\n",
    "            landmarksData.to_csv(r'E:\\RealTimeObjectDetection\\data\\data.csv', index=False)\n",
    "        elif k==49: # Start sequence when pressed \"1\"\n",
    "            print(\"start\")\n",
    "            lock = []\n",
    "            sequence= []\n",
    "            sequence_mode_on = True\n",
    "        elif k==50: # End sequence when pressed \"2\"\n",
    "            print(\"end\")\n",
    "            sequence_mode_on = False\n",
    "            print(lock)\n",
    "        elif k==51: # Check lock sequence when pressed \"3\"\n",
    "            check_lock_mode_on = !check_lock_mode_on\n",
    "            locked = False\n",
    "        elif k==113: # Close window when pressed \"q\"\n",
    "            break\n",
    "            \n",
    "cap.release()\n",
    "cv2.destroyAllWindows()"
   ]
  },
  {
   "cell_type": "code",
   "execution_count": null,
   "id": "8648aac6",
   "metadata": {},
   "outputs": [],
   "source": []
  },
  {
   "cell_type": "code",
   "execution_count": null,
   "id": "0e55e36c",
   "metadata": {},
   "outputs": [],
   "source": []
  }
 ],
 "metadata": {
  "kernelspec": {
   "display_name": "Python 3 (ipykernel)",
   "language": "python",
   "name": "python3"
  },
  "language_info": {
   "codemirror_mode": {
    "name": "ipython",
    "version": 3
   },
   "file_extension": ".py",
   "mimetype": "text/x-python",
   "name": "python",
   "nbconvert_exporter": "python",
   "pygments_lexer": "ipython3",
   "version": "3.9.12"
  }
 },
 "nbformat": 4,
 "nbformat_minor": 5
}
