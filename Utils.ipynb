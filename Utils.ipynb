{
 "cells": [
  {
   "cell_type": "markdown",
   "id": "e8de22b0",
   "metadata": {},
   "source": [
    "# Utilities"
   ]
  },
  {
   "cell_type": "code",
   "execution_count": 5,
   "id": "8359c0f5",
   "metadata": {},
   "outputs": [],
   "source": [
    "import mediapipe as mp\n",
    "import cv2\n",
    "import numpy as np\n",
    "import pandas as pd \n",
    "from sklearn.preprocessing import StandardScaler"
   ]
  },
  {
   "cell_type": "markdown",
   "id": "800612f6",
   "metadata": {},
   "source": [
    "Calculate box boundries"
   ]
  },
  {
   "cell_type": "code",
   "execution_count": 2,
   "id": "e808e720",
   "metadata": {},
   "outputs": [],
   "source": [
    "def calculate_box(image, results):\n",
    "    image_width, image_height = image.shape[1] , image.shape[0]\n",
    "    landmark_array = np.empty((0,2),int)\n",
    "    for landmarks in results: \n",
    "        for i, landmark in enumerate(landmarks.landmark):\n",
    "            landmark_x = min(int(landmark.x * image_width), image_width -1)\n",
    "            landmark_y = min(int(landmark.y * image_height), image_height -1)\n",
    "            landmark_point = [np.array((landmark_x, landmark_y))]\n",
    "            landmark_array = np.append(landmark_array, landmark_point, axis=0)\n",
    "\n",
    "    x,y,w,h = cv2.boundingRect(landmark_array)\n",
    "    return [x,y,x+w,y+h]"
   ]
  },
  {
   "cell_type": "markdown",
   "id": "3d58b636",
   "metadata": {},
   "source": [
    "Draw box"
   ]
  },
  {
   "cell_type": "code",
   "execution_count": 13,
   "id": "931a4922",
   "metadata": {},
   "outputs": [],
   "source": [
    "def draw_box(draw_box, image, box):\n",
    "    if draw_box:\n",
    "        #draw rectangle image , point 1, point 2, color, thickness\n",
    "        cv2.rectangle(image, (box[0],box[1]),(box[2],box[3]),( 66, 194,245),1)\n",
    "    return image"
   ]
  },
  {
   "cell_type": "markdown",
   "id": "c64e042d",
   "metadata": {},
   "source": [
    "Get landmarks data"
   ]
  },
  {
   "cell_type": "code",
   "execution_count": 14,
   "id": "9163057f",
   "metadata": {},
   "outputs": [],
   "source": [
    "def get_landmarks_snapshot(results):\n",
    "    data = []\n",
    "    columns = []\n",
    "    for landmarks in results: \n",
    "        for i, landmark in enumerate(landmarks.landmark):\n",
    "            columns.append(f\"Joint {i +1} - X\" )\n",
    "            columns.append(f\"Joint {i +1} - Y\" )\n",
    "            landmark_x = landmark.x\n",
    "            landmark_y = landmark.y\n",
    "            data.append(landmark_x)\n",
    "            data.append(landmark_y)\n",
    "        df = pd.DataFrame(columns=columns)\n",
    "        df.loc[len(df.index)] = data\n",
    "    return df"
   ]
  },
  {
   "cell_type": "markdown",
   "id": "f9fcb253",
   "metadata": {},
   "source": [
    "Get landmarks angles"
   ]
  },
  {
   "cell_type": "code",
   "execution_count": 7,
   "id": "6d739d9c",
   "metadata": {},
   "outputs": [],
   "source": [
    "def get_landmarks_angles(results, joint_list):\n",
    "    data = []\n",
    "    for hand in results:\n",
    "        for joint in joint_list:\n",
    "            a = np.array([hand.landmark[joint[0]].x, hand.landmark[joint[0]].y]) # First coord\n",
    "            b = np.array([hand.landmark[joint[1]].x, hand.landmark[joint[1]].y]) # Second coord\n",
    "            c = np.array([hand.landmark[joint[2]].x, hand.landmark[joint[2]].y]) # Third coord\n",
    "\n",
    "            radians = np.arctan2(c[1] - b[1], c[0]-b[0]) - np.arctan2(a[1]-b[1], a[0]-b[0])\n",
    "            angle = np.abs(radians*180.0/np.pi)\n",
    "\n",
    "            if angle > 180.0:\n",
    "                angle = 360-angle\n",
    "            data.append(angle)\n",
    "    data = np.array(data)\n",
    "    return data"
   ]
  },
  {
   "cell_type": "markdown",
   "id": "c66cf78e",
   "metadata": {},
   "source": [
    "Get scaler"
   ]
  },
  {
   "cell_type": "code",
   "execution_count": null,
   "id": "a77a3bf5",
   "metadata": {},
   "outputs": [],
   "source": [
    "def get_scaler(data):\n",
    "    scaler - StandardScaler()\n",
    "    scaler.fit(data)\n",
    "    return scaler"
   ]
  },
  {
   "cell_type": "markdown",
   "id": "1113a458",
   "metadata": {},
   "source": [
    "Create labels"
   ]
  },
  {
   "cell_type": "code",
   "execution_count": 16,
   "id": "6deb5584",
   "metadata": {},
   "outputs": [],
   "source": [
    "import json\n",
    "\n",
    "labels = [\n",
    "    {'label':'Open', 'id':0},\n",
    "    {'label':'Closed', 'id':1},\n",
    "    {'label': 'OK', 'id':2},\n",
    "    {'label': 'Peace', 'id':3},\n",
    "]\n",
    "\n",
    "with open('labels.txt', 'w') as f:\n",
    "     f.write(json.dumps(labels))"
   ]
  },
  {
   "cell_type": "markdown",
   "id": "d73b04d1",
   "metadata": {},
   "source": [
    "Finger angles"
   ]
  },
  {
   "cell_type": "code",
   "execution_count": 23,
   "id": "92b57919",
   "metadata": {},
   "outputs": [],
   "source": [
    "def draw_finger_angles(image, results, joint_list):\n",
    "    \n",
    "    # Loop through hands\n",
    "    for hand in results.multi_hand_landmarks:\n",
    "        #Loop through joint sets \n",
    "        for joint in joint_list:\n",
    "            a = np.array([hand.landmark[joint[0]].x, hand.landmark[joint[0]].y]) # First coord\n",
    "            b = np.array([hand.landmark[joint[1]].x, hand.landmark[joint[1]].y]) # Second coord\n",
    "            c = np.array([hand.landmark[joint[2]].x, hand.landmark[joint[2]].y]) # Third coord\n",
    "            \n",
    "            radians = np.arctan2(c[1] - b[1], c[0]-b[0]) - np.arctan2(a[1]-b[1], a[0]-b[0])\n",
    "            angle = np.abs(radians*180.0/np.pi)\n",
    "            \n",
    "            if angle > 180.0:\n",
    "                angle = 360-angle\n",
    "                \n",
    "            cv2.putText(image, str(round(angle, 2)), tuple(np.multiply(b, [640, 480]).astype(int)),\n",
    "                       cv2.FONT_HERSHEY_SIMPLEX, 0.25, (255, 255, 255), 1, cv2.LINE_AA)\n",
    "    return image"
   ]
  },
  {
   "cell_type": "code",
   "execution_count": null,
   "id": "547ef8fc",
   "metadata": {},
   "outputs": [],
   "source": []
  }
 ],
 "metadata": {
  "kernelspec": {
   "display_name": "Python 3 (ipykernel)",
   "language": "python",
   "name": "python3"
  },
  "language_info": {
   "codemirror_mode": {
    "name": "ipython",
    "version": 3
   },
   "file_extension": ".py",
   "mimetype": "text/x-python",
   "name": "python",
   "nbconvert_exporter": "python",
   "pygments_lexer": "ipython3",
   "version": "3.9.12"
  }
 },
 "nbformat": 4,
 "nbformat_minor": 5
}
